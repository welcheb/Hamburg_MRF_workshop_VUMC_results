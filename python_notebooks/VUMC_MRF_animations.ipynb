{
 "cells": [
  {
   "cell_type": "markdown",
   "metadata": {},
   "source": [
    "## Python notebook to create an MPEG-4 (MP4) animation of the image frames for each of the MR Fingerprinting reconstructions stored as a MATLAB .mat file"
   ]
  },
  {
   "cell_type": "markdown",
   "metadata": {},
   "source": [
    "Necessary imports"
   ]
  },
  {
   "cell_type": "code",
   "execution_count": 1,
   "metadata": {
    "collapsed": false
   },
   "outputs": [],
   "source": [
    "import numpy as np\n",
    "import scipy.io as sio\n",
    "import matplotlib.pyplot as plt\n",
    "from matplotlib import animation\n",
    "from IPython.display import display, HTML\n",
    "import glob\n",
    "import os"
   ]
  },
  {
   "cell_type": "markdown",
   "metadata": {},
   "source": [
    "Set path to parent folder of MATLAB .mat files containing the complex images of interest"
   ]
  },
  {
   "cell_type": "code",
   "execution_count": 2,
   "metadata": {
    "collapsed": false
   },
   "outputs": [],
   "source": [
    "parent_folder = '/git/github.com/Hamburg_MRF_workshop_VUMC_results/data_input'\n",
    "mat_file_list = glob.glob(parent_folder + '/*_images.mat')"
   ]
  },
  {
   "cell_type": "code",
   "execution_count": 3,
   "metadata": {
    "collapsed": false
   },
   "outputs": [
    {
     "data": {
      "text/plain": [
       "['/git/github.com/Hamburg_MRF_workshop_VUMC_results/data_input/VUMC_MRF_1000_TE3.3_FSC_images.mat',\n",
       " '/git/github.com/Hamburg_MRF_workshop_VUMC_results/data_input/VUMC_MRF_1000_TE3.3_US_images.mat',\n",
       " '/git/github.com/Hamburg_MRF_workshop_VUMC_results/data_input/VUMC_MRF_1000_TE5.0_FSC_images.mat',\n",
       " '/git/github.com/Hamburg_MRF_workshop_VUMC_results/data_input/VUMC_MRF_1000_TE5.0_US_images.mat',\n",
       " '/git/github.com/Hamburg_MRF_workshop_VUMC_results/data_input/VUMC_MRF_210_TE3.3_FSC_images.mat',\n",
       " '/git/github.com/Hamburg_MRF_workshop_VUMC_results/data_input/VUMC_MRF_210_TE3.3_US_images.mat',\n",
       " '/git/github.com/Hamburg_MRF_workshop_VUMC_results/data_input/VUMC_MRF_210_TE4.0_FSC_images.mat',\n",
       " '/git/github.com/Hamburg_MRF_workshop_VUMC_results/data_input/VUMC_MRF_210_TE4.0_US_images.mat',\n",
       " '/git/github.com/Hamburg_MRF_workshop_VUMC_results/data_input/VUMC_MRF_500_TE3.3_FSC_images.mat',\n",
       " '/git/github.com/Hamburg_MRF_workshop_VUMC_results/data_input/VUMC_MRF_500_TE3.3_US_images.mat',\n",
       " '/git/github.com/Hamburg_MRF_workshop_VUMC_results/data_input/VUMC_MRF_500_TE5.2_FSC_images.mat',\n",
       " '/git/github.com/Hamburg_MRF_workshop_VUMC_results/data_input/VUMC_MRF_500_TE5.2_US_images.mat']"
      ]
     },
     "execution_count": 3,
     "metadata": {},
     "output_type": "execute_result"
    }
   ],
   "source": [
    "mat_file_list"
   ]
  },
  {
   "cell_type": "markdown",
   "metadata": {},
   "source": [
    "Set resolution of the MPEG-4 movie "
   ]
  },
  {
   "cell_type": "code",
   "execution_count": 4,
   "metadata": {
    "collapsed": true
   },
   "outputs": [],
   "source": [
    "dpi = 72.0"
   ]
  },
  {
   "cell_type": "markdown",
   "metadata": {},
   "source": [
    "Loop over .mat files and plot magnitude of complex sum across all fingerprinting frames"
   ]
  },
  {
   "cell_type": "code",
   "execution_count": 5,
   "metadata": {
    "collapsed": false
   },
   "outputs": [
    {
     "name": "stdout",
     "output_type": "stream",
     "text": [
      "Saved VUMC_MRF_1000_TE3.3_FSC.mp4\n",
      "Saved VUMC_MRF_1000_TE3.3_US.mp4\n",
      "Saved VUMC_MRF_1000_TE5.0_FSC.mp4\n",
      "Saved VUMC_MRF_1000_TE5.0_US.mp4\n",
      "Saved VUMC_MRF_210_TE3.3_FSC.mp4\n",
      "Saved VUMC_MRF_210_TE3.3_US.mp4\n",
      "Saved VUMC_MRF_210_TE4.0_FSC.mp4\n",
      "Saved VUMC_MRF_210_TE4.0_US.mp4\n",
      "Saved VUMC_MRF_500_TE3.3_FSC.mp4\n",
      "Saved VUMC_MRF_500_TE3.3_US.mp4\n",
      "Saved VUMC_MRF_500_TE5.2_FSC.mp4\n",
      "Saved VUMC_MRF_500_TE5.2_US.mp4\n"
     ]
    }
   ],
   "source": [
    "for idx_file in range(len(mat_file_list)):\n",
    "    \n",
    "    this_filename = os.path.basename(mat_file_list[idx_file])\n",
    "    this_filename_prefix = this_filename[:-11]\n",
    "    \n",
    "    # Load .mat file\n",
    "    mat_contents = sio.loadmat(mat_file_list[idx_file])\n",
    "    \n",
    "    # Extract stack of complex images\n",
    "    imgs_complex = mat_contents['imgs']\n",
    "        \n",
    "    # Calculate magnitude (modulus) image\n",
    "    # flip up-down and rotate 90 degrees to match orientation of Hamburg reconstructions\n",
    "    imgs_modulus = np.rot90( np.flipud( np.absolute(imgs_complex) ), +1)\n",
    "    \n",
    "    xpixels, ypixels = imgs_modulus.shape[0], imgs_modulus.shape[1]\n",
    "    fig = plt.figure(figsize=(ypixels/dpi, xpixels/dpi), dpi=dpi)\n",
    "    \n",
    "    im = plt.figimage(imgs_modulus[:,:,0], cmap='gray')\n",
    "\n",
    "    def animate(i):\n",
    "        im.set_array(imgs_modulus[:,:,i])\n",
    "        return (im,)\n",
    "\n",
    "    anim = animation.FuncAnimation(fig, animate, frames=imgs_modulus.shape[2])\n",
    "    \n",
    "    # save animation to MP4 file\n",
    "    this_filename_mp4 = this_filename_prefix + '.mp4'\n",
    "    anim.save(this_filename_mp4)\n",
    "    print 'Saved ' + this_filename_mp4\n",
    "\n",
    "    # uncomment to display videos within the notebook (significantly increases size of saved notebook)\n",
    "    #display(HTML(anim.to_html5_video()))"
   ]
  }
 ],
 "metadata": {
  "kernelspec": {
   "display_name": "Python 2",
   "language": "python",
   "name": "python2"
  },
  "language_info": {
   "codemirror_mode": {
    "name": "ipython",
    "version": 2
   },
   "file_extension": ".py",
   "mimetype": "text/x-python",
   "name": "python",
   "nbconvert_exporter": "python",
   "pygments_lexer": "ipython2",
   "version": "2.7.13"
  }
 },
 "nbformat": 4,
 "nbformat_minor": 2
}
